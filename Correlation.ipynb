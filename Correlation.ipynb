{
 "cells": [
  {
   "cell_type": "code",
   "execution_count": 2,
   "id": "2d6c0428",
   "metadata": {},
   "outputs": [],
   "source": [
    "import pandas as pd\n",
    "import numpy as np\n",
    "import seaborn as sns\n",
    "\n",
    "import matplotlib.pyplot as plt\n",
    "import matplotlib.mlab as mlab\n",
    "import matplotlib\n",
    "plt.style.use('ggplot')\n",
    "from matplotlib.pyplot import figure\n",
    "\n",
    "%matplotlib inline\n",
    "matplotlib.rcParams['figure.figsize'] = (12,8)\n",
    "\n",
    "pd.options.mode.chained_assignment = None\n",
    "\n",
    "df=pd.read_csv('/Users/tusharkhajuria/Downloads/HyderabadResturants.csv')\n",
    "\n"
   ]
  },
  {
   "cell_type": "code",
   "execution_count": 9,
   "id": "dc05865d",
   "metadata": {},
   "outputs": [
    {
     "data": {
      "text/html": [
       "<div>\n",
       "<style scoped>\n",
       "    .dataframe tbody tr th:only-of-type {\n",
       "        vertical-align: middle;\n",
       "    }\n",
       "\n",
       "    .dataframe tbody tr th {\n",
       "        vertical-align: top;\n",
       "    }\n",
       "\n",
       "    .dataframe thead th {\n",
       "        text-align: right;\n",
       "    }\n",
       "</style>\n",
       "<table border=\"1\" class=\"dataframe\">\n",
       "  <thead>\n",
       "    <tr style=\"text-align: right;\">\n",
       "      <th></th>\n",
       "      <th>links</th>\n",
       "      <th>names</th>\n",
       "      <th>ratings</th>\n",
       "      <th>cuisine</th>\n",
       "      <th>price for one</th>\n",
       "    </tr>\n",
       "  </thead>\n",
       "  <tbody>\n",
       "    <tr>\n",
       "      <th>38</th>\n",
       "      <td>https://www.zomato.com/hyderabad/andhra-meals-...</td>\n",
       "      <td>Andhra Meals And Tiffins</td>\n",
       "      <td>4.1</td>\n",
       "      <td>Andhra</td>\n",
       "      <td>400</td>\n",
       "    </tr>\n",
       "    <tr>\n",
       "      <th>35</th>\n",
       "      <td>https://www.zomato.com/hyderabad/rice-bowl-dil...</td>\n",
       "      <td>Rice Bowl</td>\n",
       "      <td>3.7</td>\n",
       "      <td>North Indian</td>\n",
       "      <td>400</td>\n",
       "    </tr>\n",
       "    <tr>\n",
       "      <th>33</th>\n",
       "      <td>https://www.zomato.com/hyderabad/cakezone-hima...</td>\n",
       "      <td>CakeZone</td>\n",
       "      <td>4.1</td>\n",
       "      <td>Bakery, Desserts, Ice Cream, Pancake</td>\n",
       "      <td>400</td>\n",
       "    </tr>\n",
       "    <tr>\n",
       "      <th>43</th>\n",
       "      <td>https://www.zomato.com/hyderabad/capital-multi...</td>\n",
       "      <td>Capital Multi Cuisine Restaurant</td>\n",
       "      <td>3.9</td>\n",
       "      <td>North Indian, Chinese, Biryani, Seafood, Kebab...</td>\n",
       "      <td>400</td>\n",
       "    </tr>\n",
       "    <tr>\n",
       "      <th>40</th>\n",
       "      <td>https://www.zomato.com/hyderabad/lunchbox-meal...</td>\n",
       "      <td>LunchBox - Meals and Thalis</td>\n",
       "      <td>3.9</td>\n",
       "      <td>North Indian, Biryani, Chinese, Healthy Food, ...</td>\n",
       "      <td>400</td>\n",
       "    </tr>\n",
       "    <tr>\n",
       "      <th>...</th>\n",
       "      <td>...</td>\n",
       "      <td>...</td>\n",
       "      <td>...</td>\n",
       "      <td>...</td>\n",
       "      <td>...</td>\n",
       "    </tr>\n",
       "    <tr>\n",
       "      <th>55</th>\n",
       "      <td>https://www.zomato.com/hyderabad/sri-sai-ragha...</td>\n",
       "      <td>Sri Sai Raghavendra Udipi Veg</td>\n",
       "      <td>3.9</td>\n",
       "      <td>South Indian, North Indian</td>\n",
       "      <td>50</td>\n",
       "    </tr>\n",
       "    <tr>\n",
       "      <th>346</th>\n",
       "      <td>https://www.zomato.com/hyderabad/apple-cut-fas...</td>\n",
       "      <td>Apple Cut Fast Food &amp; Juice Center</td>\n",
       "      <td>4.1</td>\n",
       "      <td>Juices</td>\n",
       "      <td>50</td>\n",
       "    </tr>\n",
       "    <tr>\n",
       "      <th>169</th>\n",
       "      <td>https://www.zomato.com/hyderabad/green-treat-v...</td>\n",
       "      <td>Green Treat Vegetarian Food Court</td>\n",
       "      <td>4.1</td>\n",
       "      <td>South Indian, Chinese, Fast Food, North Indian...</td>\n",
       "      <td>50</td>\n",
       "    </tr>\n",
       "    <tr>\n",
       "      <th>175</th>\n",
       "      <td>https://www.zomato.com/hyderabad/the-brooklyn-...</td>\n",
       "      <td>The Brooklyn Creamery - Healthy Ice Cream</td>\n",
       "      <td>3.8</td>\n",
       "      <td>Ice Cream</td>\n",
       "      <td>50</td>\n",
       "    </tr>\n",
       "    <tr>\n",
       "      <th>351</th>\n",
       "      <td>https://www.zomato.com/hyderabad/ur-life-cafe-...</td>\n",
       "      <td>UR Life Cafe</td>\n",
       "      <td>4</td>\n",
       "      <td>Cafe, Continental, Healthy Food, Italian, Pizz...</td>\n",
       "      <td>50</td>\n",
       "    </tr>\n",
       "  </tbody>\n",
       "</table>\n",
       "<p>657 rows × 5 columns</p>\n",
       "</div>"
      ],
      "text/plain": [
       "                                                 links  \\\n",
       "38   https://www.zomato.com/hyderabad/andhra-meals-...   \n",
       "35   https://www.zomato.com/hyderabad/rice-bowl-dil...   \n",
       "33   https://www.zomato.com/hyderabad/cakezone-hima...   \n",
       "43   https://www.zomato.com/hyderabad/capital-multi...   \n",
       "40   https://www.zomato.com/hyderabad/lunchbox-meal...   \n",
       "..                                                 ...   \n",
       "55   https://www.zomato.com/hyderabad/sri-sai-ragha...   \n",
       "346  https://www.zomato.com/hyderabad/apple-cut-fas...   \n",
       "169  https://www.zomato.com/hyderabad/green-treat-v...   \n",
       "175  https://www.zomato.com/hyderabad/the-brooklyn-...   \n",
       "351  https://www.zomato.com/hyderabad/ur-life-cafe-...   \n",
       "\n",
       "                                         names ratings  \\\n",
       "38                    Andhra Meals And Tiffins     4.1   \n",
       "35                                   Rice Bowl     3.7   \n",
       "33                                    CakeZone     4.1   \n",
       "43            Capital Multi Cuisine Restaurant     3.9   \n",
       "40                 LunchBox - Meals and Thalis     3.9   \n",
       "..                                         ...     ...   \n",
       "55               Sri Sai Raghavendra Udipi Veg     3.9   \n",
       "346         Apple Cut Fast Food & Juice Center     4.1   \n",
       "169          Green Treat Vegetarian Food Court     4.1   \n",
       "175  The Brooklyn Creamery - Healthy Ice Cream     3.8   \n",
       "351                               UR Life Cafe       4   \n",
       "\n",
       "                                               cuisine  price for one  \n",
       "38                                              Andhra            400  \n",
       "35                                        North Indian            400  \n",
       "33                Bakery, Desserts, Ice Cream, Pancake            400  \n",
       "43   North Indian, Chinese, Biryani, Seafood, Kebab...            400  \n",
       "40   North Indian, Biryani, Chinese, Healthy Food, ...            400  \n",
       "..                                                 ...            ...  \n",
       "55                          South Indian, North Indian             50  \n",
       "346                                             Juices             50  \n",
       "169  South Indian, Chinese, Fast Food, North Indian...             50  \n",
       "175                                          Ice Cream             50  \n",
       "351  Cafe, Continental, Healthy Food, Italian, Pizz...             50  \n",
       "\n",
       "[657 rows x 5 columns]"
      ]
     },
     "execution_count": 9,
     "metadata": {},
     "output_type": "execute_result"
    }
   ],
   "source": [
    "df.head(800)"
   ]
  },
  {
   "cell_type": "code",
   "execution_count": 5,
   "id": "6115a1e1",
   "metadata": {},
   "outputs": [
    {
     "name": "stdout",
     "output_type": "stream",
     "text": [
      "links - 0%\n",
      "names - 0%\n",
      "ratings - 0%\n",
      "cuisine - 0%\n",
      "price for one - 0%\n"
     ]
    }
   ],
   "source": [
    "# Finding missing data\n",
    "\n",
    "for col in df.columns:\n",
    "    pct_missing = np.mean(df[col].isnull())\n",
    "    print('{} - {}%'.format(col, round(pct_missing*100)))\n"
   ]
  },
  {
   "cell_type": "code",
   "execution_count": 8,
   "id": "6ba22866",
   "metadata": {},
   "outputs": [],
   "source": [
    "#So, our dataset doesn't contain any missing data\n",
    "#Dropping duplicates\n",
    "df.drop_duplicates()\n",
    "df.sort_values(by=['price for one'],inplace=True, ascending=False)"
   ]
  },
  {
   "cell_type": "code",
   "execution_count": 12,
   "id": "13392589",
   "metadata": {},
   "outputs": [
    {
     "data": {
      "text/plain": [
       "<AxesSubplot:>"
      ]
     },
     "execution_count": 12,
     "metadata": {},
     "output_type": "execute_result"
    },
    {
     "data": {
      "image/png": "[encoded data removed]",
      "text/plain": [
       "<Figure size 864x576 with 2 Axes>"
      ]
     },
     "metadata": {
      "needs_background": "light"
     },
     "output_type": "display_data"
    }
   ],
   "source": [
    "df_numerized=df\n",
    "for col_name in df_numerized.columns:\n",
    "    if(df_numerized[col_name].dtype=='object'):\n",
    "        df_numerized[col_name]=df_numerized[col_name].astype('category')\n",
    "        df_numerized[col_name]=df_numerized[col_name].cat.codes\n",
    "       \n",
    "df_numerized.corr() #pearson \n",
    "correlation_mat=df_numerized.corr()\n",
    "sns.heatmap(correlation_mat, annot=True) #Visualisation of correlation matrix\n",
    "#Lighter the colour, higher the correlation.\n"
   ]
  },
  {
   "cell_type": "code",
   "execution_count": 15,
   "id": "19490cb1",
   "metadata": {},
   "outputs": [],
   "source": [
    "correlation_mat=df_numerized.corr()\n",
    "corr_pairs=correlation_mat.unstack()\n",
    "corr_pairs\n",
    "sorted_pairs=corr_pairs.sort_values()\n",
    "high_correlation_sorted_pairs=sorted_pairs[(sorted_pairs)>0.5]\n",
    "high_correlation_sorted_pairs=high_correlation_sorted_pairs[(sorted_pairs)<1.0]"
   ]
  },
  {
   "cell_type": "code",
   "execution_count": null,
   "id": "de3d35c8",
   "metadata": {},
   "outputs": [],
   "source": [
    "#Hence, there is no strong correlation between types of cuisine served and price to ratings"
   ]
  }
 ],
 "metadata": {
  "kernelspec": {
   "display_name": "Python 3 (ipykernel)",
   "language": "python",
   "name": "python3"
  },
  "language_info": {
   "codemirror_mode": {
    "name": "ipython",
    "version": 3
   },
   "file_extension": ".py",
   "mimetype": "text/x-python",
   "name": "python",
   "nbconvert_exporter": "python",
   "pygments_lexer": "ipython3",
   "version": "3.9.12"
  }
 },
 "nbformat": 4,
 "nbformat_minor": 5
}
